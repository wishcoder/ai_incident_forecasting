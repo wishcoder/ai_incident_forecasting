{
 "cells": [
  {
   "cell_type": "code",
   "execution_count": null,
   "id": "7e21e976-bffa-4822-a4a6-7e74ead5a3b7",
   "metadata": {},
   "outputs": [],
   "source": [
    "# imports\n",
    "from incident_data_extractor import IncidentDataExtractor\n",
    "from incident_forecasting import IncidentForecasting"
   ]
  },
  {
   "cell_type": "code",
   "execution_count": null,
   "id": "b395559c-3e69-43a9-b3e4-f7a909d54099",
   "metadata": {},
   "outputs": [],
   "source": [
    "# load incidents data from wiki pages\n",
    "directory = \"wiki\"\n",
    "extractor = IncidentDataExtractor(directory)\n",
    "incidents_data = extractor.load_incidents()\n",
    "print(f\"Incidents Data: {incidents_data}\")"
   ]
  },
  {
   "cell_type": "code",
   "execution_count": null,
   "id": "3cb2dc17-ffde-45fd-9460-f5b9e8d3b945",
   "metadata": {},
   "outputs": [],
   "source": [
    "# train model\n",
    "forecasting = IncidentForecasting()\n",
    "forecasting.main()\n",
    "forecasting.train(incidents_data)\n",
    "forecasting.validate_model()"
   ]
  },
  {
   "cell_type": "code",
   "execution_count": null,
   "id": "3fbba5e9-1b9c-44aa-816a-e8760f79c857",
   "metadata": {},
   "outputs": [],
   "source": [
    "# forecasting app-4 changes\n",
    "new_issue_app_4 = [\"App 4 changes\"]\n",
    "predicted_components, predicted_resolutions = forecasting.predict(new_issue_app_4)\n",
    "print(f\"Predicted Components: {predicted_components}\")\n",
    "print(f\"Predicted Resolutions: {predicted_resolutions}\")"
   ]
  },
  {
   "cell_type": "code",
   "execution_count": null,
   "id": "889cb3bb-a9d2-4c0d-9f6f-c266f1da8727",
   "metadata": {},
   "outputs": [],
   "source": [
    "# forecasting app-1 changes\n",
    "new_issue_app_1 = [\"App 1 changes\"]\n",
    "predicted_components, predicted_resolutions = forecasting.predict(new_issue_app_1)\n",
    "print(f\"Predicted Components: {predicted_components}\")\n",
    "print(f\"Predicted Resolutions: {predicted_resolutions}\")"
   ]
  },
  {
   "cell_type": "code",
   "execution_count": null,
   "id": "799b7155-8656-4811-9947-9a10ec8c90ce",
   "metadata": {},
   "outputs": [],
   "source": []
  }
 ],
 "metadata": {
  "kernelspec": {
   "display_name": "Python 3 (ipykernel)",
   "language": "python",
   "name": "python3"
  },
  "language_info": {
   "codemirror_mode": {
    "name": "ipython",
    "version": 3
   },
   "file_extension": ".py",
   "mimetype": "text/x-python",
   "name": "python",
   "nbconvert_exporter": "python",
   "pygments_lexer": "ipython3",
   "version": "3.11.0"
  }
 },
 "nbformat": 4,
 "nbformat_minor": 5
}
