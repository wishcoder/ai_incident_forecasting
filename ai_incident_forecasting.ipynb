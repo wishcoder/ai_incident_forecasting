{
 "cells": [
  {
   "cell_type": "code",
   "execution_count": 3,
   "id": "7e21e976-bffa-4822-a4a6-7e74ead5a3b7",
   "metadata": {},
   "outputs": [],
   "source": [
    "# imports\n",
    "from incident_data_extractor import IncidentDataExtractor\n",
    "from component_affected_forecasting import ComponentAffectedForecasting"
   ]
  },
  {
   "cell_type": "code",
   "execution_count": 5,
   "id": "b395559c-3e69-43a9-b3e4-f7a909d54099",
   "metadata": {},
   "outputs": [
    {
     "name": "stdout",
     "output_type": "stream",
     "text": [
      "Incidents Data: [{'Incident ID': '001', 'Title': 'Database-1 is not accessible', 'Date and Time': '2023-03-15 08:45', 'Reported By': 'John Doe/IT Department', 'Component Affected': 'Database-1', 'Resolution Steps': '1. Restart Database-1 to restore access.', 'Resolved By': 'Jane Smith/Database Team', 'Resolution Date and Time': '2023-03-15 10:30', 'Current Status': 'Resolved', 'Lessons Learned': 'Investigation revealed a network configuration error as the root cause. Future preventive measures include regular network configuration audits and establishing a rapid response protocol for database accessibility issues.'}, {'Incident ID': '010', 'Title': 'Firewall-2 is not reachable', 'Date and Time': '2023-11-10 09:15', 'Reported By': 'Derek Yu/Network Operations', 'Component Affected': 'Firewall-2', 'Resolution Steps': '1. Immediate escalation to the hardware team for diagnostics. 2. Faulty hardware component identified and replaced by 12:00. 3. Firewall-2 functionality restored, and normal operations for App-3 and App-4 resumed by 12:30.', 'Resolved By': 'Anna Bell/Hardware Support Team', 'Resolution Date and Time': '2023-11-10 12:30', 'Current Status': 'Resolved', 'Lessons Learned': 'Highlighted the need for regular maintenance checks and the availability of spare parts for critical infrastructure components to ensure quick recovery from hardware failures.'}, {'Incident ID': '011', 'Title': 'Firewall-2 Configuration Changes', 'Date and Time': '2023-12-05 14:45', 'Reported By': 'Michael Chen/IT Security', 'Component Affected': 'Firewall-2', 'Resolution Steps': '1. The unauthorized changes were detected through routine security monitoring. 2. Firewall-2 configurations were immediately reviewed and corrected by 15:30. 3. Full functionality for App-3 and App-4 was restored, and additional security measures were implemented to prevent unauthorized access.', 'Resolved By': 'Sophie Turner/Network Security Team', 'Resolution Date and Time': '2023-12-05 15:30', 'Current Status': 'Resolved', 'Lessons Learned': 'Emphasized the importance of stringent access controls and regular audits of firewall configurations to detect and rectify unauthorized changes promptly.'}, {'Incident ID': '012', 'Title': 'Firewall-2 Routing All Traffic to App-3', 'Date and Time': '2024-01-20 11:00', 'Reported By': 'Alexa Ramirez/Network Operations', 'Component Affected': 'Firewall-2', 'Resolution Steps': '1. The misconfiguration was identified through traffic monitoring tools. 2. Corrective action was taken to adjust the routing rules, restoring access to App-4 by 12:30.', 'Resolved By': 'Brian Foster/IT Security', 'Resolution Date and Time': '2024-01-20 12:30', 'Current Status': 'Resolved', 'Lessons Learned': 'The incident underscored the need for a thorough review and testing of firewall rules before implementation to prevent misrouting and ensure all applications remain accessible as intended.'}, {'Incident ID': '013', 'Title': 'Firewall-2 Routing All Traffic to App-4', 'Date and Time': '2024-02-15 09:45', 'Reported By': 'Carla Espinosa/Network Management', 'Component Affected': 'Firewall-2', 'Resolution Steps': '1. The routing issue was quickly detected by the network monitoring system. 2. Network engineers corrected the firewall configuration, restoring normal traffic distribution between App-3 and App-4 by 10:30.', 'Resolved By': 'Ted Mosby/Network Engineering', 'Resolution Date and Time': '2024-02-15 10:30', 'Current Status': 'Resolved', 'Lessons Learned': 'Reinforced the importance of precise configuration management and the benefits of having automated alerts for unusual traffic patterns to ensure swift detection and correction of such issues.'}, {'Incident ID': '014', 'Title': 'Service-2 is not accessible', 'Date and Time': '2024-03-05 13:20', 'Reported By': 'Jordan Sullivan/IT Support', 'Component Affected': 'Service-2', 'Resolution Steps': \"1. IT support conducted immediate diagnostics to identify the cause of the server failure. 2. A backup server was deployed to restore Service-2's functionality by 14:50.\", 'Resolved By': 'Keith Dudemeister/IT Operations', 'Resolution Date and Time': '2024-03-05 14:50', 'Current Status': 'Resolved', 'Lessons Learned': 'Underlined the necessity for robust server health monitoring and the importance of having an efficient backup strategy to ensure continuity of service.'}, {'Incident ID': '015', 'Title': 'Service-2 Changes', 'Date and Time': '2024-04-12 16:30', 'Reported By': 'Perry Cox/Development Team', 'Component Affected': 'Service-2', 'Resolution Steps': \"1. The development team was alerted to the issue and began immediate troubleshooting. 2. Service-2's recent changes were rolled back to the last stable configuration by 17:15. 3. Service functionality was fully restored, and a post-mortem analysis was scheduled to prevent similar issues.\", 'Resolved By': 'Elliot Reid/Development Team', 'Resolution Date and Time': '2024-04-12 17:15', 'Current Status': 'Resolved', 'Lessons Learned': 'Emphasized the critical importance of thorough testing and validation of service updates in a staging environment before deployment to production to ensure compatibility and functionality.'}, {'Incident ID': '016', 'Title': 'Service-4 is not accessible', 'Date and Time': '2024-05-18 10:30', 'Reported By': 'Kim Briggs/IT Support', 'Component Affected': 'Service-4', 'Resolution Steps': '1. IT Support initiated a detailed analysis to pinpoint the cause of the network configuration issue. 2. The network configuration was corrected, and Service-4 was brought back online by 12:00.', 'Resolved By': 'Chris Turk/Network Engineering', 'Resolution Date and Time': '2024-05-18 12:00', 'Current Status': 'Resolved', 'Lessons Learned': 'This incident highlighted the need for continuous monitoring and regular audits of network configurations to prevent similar disruptions. It also underscored the importance of having a rapid response plan for critical service outages.'}, {'Incident ID': '017', 'Title': 'Service-4 Changes', 'Date and Time': '2024-06-22 15:45', 'Reported By': 'Laverne Roberts/Software Development', 'Component Affected': 'Service-4', 'Resolution Steps': '1. The issue was quickly identified by the software development team during routine checks. 2. A hotfix was developed and deployed to rectify the bug in Service-4 by 17:30.', 'Resolved By': 'Carla Espinosa/Software Development', 'Resolution Date and Time': '2024-06-22 17:30', 'Current Status': 'Resolved', 'Lessons Learned': 'Emphasized the importance of comprehensive testing before deploying updates to production environments. The incident also highlighted the need for a rapid response mechanism to address unforeseen issues post-deployment.'}, {'Incident ID': '018', 'Title': 'Service-1 is not accessible', 'Date and Time': '2024-07-04 08:20', 'Reported By': 'Todd Quinlan/IT Department', 'Component Affected': 'Service-1', 'Resolution Steps': '1. IT support was immediately notified and began troubleshooting the server issues. 2. Server resources were reallocated to manage the load, and Service-1 was brought back online by 09:45.', 'Resolved By': 'Elliot Reid/IT Support Team', 'Resolution Date and Time': '2024-07-04 09:45', 'Current Status': 'Resolved', 'Lessons Learned': 'The incident highlighted the need for proactive server load monitoring and the implementation of scalable solutions to accommodate unexpected spikes in demand.'}, {'Incident ID': '019', 'Title': 'Service-1 Changes', 'Date and Time': '2024-08-15 14:30', 'Reported By': 'Jordan Sullivan/Development Team', 'Component Affected': 'Service-1', 'Resolution Steps': \"1. The issue was detected during routine quality assurance testing. 2. Developers promptly addressed the coding error, implementing a fix to restore Service-1's functionality by 16:00.\", 'Resolved By': 'Christopher Turk/Software Engineering', 'Resolution Date and Time': '2024-08-15 16:00', 'Current Status': 'Resolved', 'Lessons Learned': 'Underlined the importance of thorough code review and testing before deployment, especially for updates affecting critical service components.'}, {'Incident ID': '002', 'Title': 'Router-1 is not reachable', 'Date and Time': '2023-02-20 09:32', 'Reported By': 'Alice Johnson/Network Operations', 'Component Affected': 'Router-1', 'Resolution Steps': '1. Network team alerted and began troubleshooting. 2. Restart Router-1 at 10:15 after initial diagnostics. 3. Connectivity restored, and services for App-1 and App-2 resumed normal operation by 10:45.', 'Resolved By': 'Bob Smith/Network Operations', 'Resolution Date and Time': '2023-02-20 10:45', 'Current Status': 'Resolved', 'Lessons Learned': 'Further investigation revealed a firmware issue was the root cause. The incident underscores the need for regular firmware updates and more robust monitoring of network components to detect and address such issues proactively.'}, {'Incident ID': '020', 'Title': 'Service-3 is not accessible', 'Date and Time': '2024-09-10 11:45', 'Reported By': 'Kelso Zabielski/IT Operations', 'Component Affected': 'Service-3', 'Resolution Steps': '1. Network administrators were immediately alerted to the service disruption. 2. A misconfigured network router was identified as the cause and corrected, restoring access to Service-3 by 13:30.', 'Resolved By': 'Bob Kelso/Network Administration', 'Resolution Date and Time': '2024-09-10 13:30', 'Current Status': 'Resolved', 'Lessons Learned': 'Emphasized the critical need for regular network configuration audits and the implementation of monitoring tools to quickly detect and address service accessibility issues.'}, {'Incident ID': '021', 'Title': 'Service-3 Changes', 'Date and Time': '2024-10-05 09:30', 'Reported By': 'The Janitor/IT Support', 'Component Affected': 'Service-3', 'Resolution Steps': '1. The issue was identified through automated performance monitoring. 2. Immediate rollback to the previous version of Service-3 was executed, and the system was stabilized by 11:00.', 'Resolved By': 'Elliot Reid/Development Team', 'Resolution Date and Time': '2024-10-05 11:00', 'Current Status': 'Resolved', 'Lessons Learned': 'Highlighted the necessity for rigorous testing of new features or changes in a controlled environment before deployment to production to ensure they do not adversely affect system performance or functionality.'}, {'Incident ID': '022', 'Title': 'App-1 is not accessible', 'Date and Time': '2024-11-15 08:00', 'Reported By': 'Carla Espinosa/IT Department', 'Component Affected': 'App-1', 'Resolution Steps': '1. IT support conducted immediate diagnostics to identify the cause of the connectivity issue. 2. The database connection was restored, and App-1 was brought back online by 10:30.', 'Resolved By': 'John Dorian/Database Management', 'Resolution Date and Time': '2024-11-15 10:30', 'Current Status': 'Resolved', 'Lessons Learned': 'Underlined the importance of continuous monitoring and redundancy for critical infrastructure components to ensure high availability and quick recovery from unexpected failures.'}, {'Incident ID': '023', 'Title': 'App-2 is not accessible', 'Date and Time': '2024-12-20 07:45', 'Reported By': 'Perry Cox/IT Support', 'Component Affected': 'App-2', 'Resolution Steps': \"1. The development team was mobilized to diagnose the failure. 2. A rollback to the pre-update state was executed, and App-2's services were fully restored by 09:30.\", 'Resolved By': 'Christopher Turk/Development Team', 'Resolution Date and Time': '2024-12-20 09:30', 'Current Status': 'Resolved', 'Lessons Learned': 'Emphasized the critical need for exhaustive testing of updates in a staging environment and the establishment of a clear rollback procedure for quickly mitigating issues arising from updates.'}, {'Incident ID': '024', 'Title': 'App-3 is not accessible', 'Date and Time': '2025-01-10 08:15', 'Reported By': 'Doug Murphy/IT Support', 'Component Affected': 'App-3', 'Resolution Steps': '1. The error was quickly identified by the IT support team. 2. Corrective measures were implemented, restoring full access to App-3 by 09:45.', 'Resolved By': 'Lloyd Slawski/IT Operations', 'Resolution Date and Time': '2025-01-10 09:45', 'Current Status': 'Resolved', 'Lessons Learned': 'Highlighted the importance of thorough pre-deployment testing for updates and the need for rapid response capabilities to address access issues promptly.'}, {'Incident ID': '025', 'Title': 'App-4 is not accessible', 'Date and Time': '2025-02-20 10:30', 'Reported By': 'Ted Buckland/IT Department', 'Component Affected': 'App-4', 'Resolution Steps': \"1. The hosting provider was contacted immediately to diagnose the cause of the outage. 2. Emergency maintenance was performed, and App-4's services were restored by 12:00.\", 'Resolved By': 'Janitor/Hosting Provider Support', 'Resolution Date and Time': '2025-02-20 12:00', 'Current Status': 'Resolved', 'Lessons Learned': 'Underlined the need for a robust disaster recovery plan and the importance of maintaining effective communication channels with service providers to ensure swift resolution of such incidents.'}, {'Incident ID': '026', 'Title': 'App-1 Configuration Changes', 'Date and Time': '2025-03-15 14:00', 'Reported By': 'Ben Sullivan/Development Team', 'Component Affected': 'App-1', 'Resolution Steps': '1. The issue was quickly identified by the development team through user reports and system monitoring. 2. The configuration changes were rolled back, restoring App-1 to its previous stable state by 15:30.', 'Resolved By': 'Carla Espinosa/Development Team', 'Resolution Date and Time': '2025-03-15 15:30', 'Current Status': 'Resolved', 'Lessons Learned': 'Emphasized the critical importance of conducting comprehensive testing on configuration changes in a test environment before applying them to production to prevent unintended service disruptions.'}, {'Incident ID': '027', 'Title': 'App-2 Configuration Changes', 'Date and Time': '2025-04-18 16:20', 'Reported By': 'Molly Clock/IT Support', 'Component Affected': 'App-2', 'Resolution Steps': '1. The configuration changes were promptly reviewed by the IT support team. 2. Adjustments were made to restore access, with full functionality returning to all users by 17:45.', 'Resolved By': 'Elliot Reid/IT Support Team', 'Resolution Date and Time': '2025-04-18 17:45', 'Current Status': 'Resolved', 'Lessons Learned': 'Highlighted the importance of validating all configuration changes against user access policies to ensure no unintended restrictions are applied.'}, {'Incident ID': '028', 'Title': 'App-3 Configuration Changes', 'Date and Time': '2025-05-22 14:30', 'Reported By': 'Bob Kelso/Development Team', 'Component Affected': 'App-3', 'Resolution Steps': '1. The issue was identified through user feedback and system monitoring. 2. The original database connection settings were restored, improving performance back to optimal levels by 16:00.', 'Resolved By': 'John Dorian/Development Team', 'Resolution Date and Time': '2025-05-22 16:00', 'Current Status': 'Resolved', 'Lessons Learned': 'Emphasized the need for comprehensive testing of configuration changes in a staging environment to assess impact on performance before deployment.'}, {'Incident ID': '029', 'Title': 'App-4 Configuration Changes', 'Date and Time': '2025-06-30 09:00', 'Reported By': 'Turk Turkleton/IT Operations', 'Component Affected': 'App-4', 'Resolution Steps': '1. Immediate action was taken to identify and reverse the configuration changes. 2. Access was restored for all affected users by 10:30, and a review was initiated to prevent similar incidents.', 'Resolved By': 'Carla Espinosa/Security Team', 'Resolution Date and Time': '2025-06-30 10:30', 'Current Status': 'Resolved', 'Lessons Learned': 'Stressed the importance of a stringent change management process and the need for immediate rollback procedures for quickly addressing access issues.'}, {'Incident ID': '003', 'Title': 'Router-1 Configuration Changes', 'Date and Time': '2023-04-05 14:20', 'Reported By': 'Cynthia Moore/IT Support', 'Component Affected': 'Router-1', 'Resolution Steps': '1. The issue was identified as a misconfiguration during a routine review. 2. Configuration changes were rolled back to the previous stable state at 15:00. 3. Full connectivity for App-1 and App-2 was restored by 15:30.', 'Resolved By': 'David Lee/Network Engineering', 'Resolution Date and Time': '2023-04-05 15:30', 'Current Status': 'Resolved', 'Lessons Learned': 'The incident highlighted the need for stricter change management protocols and pre-approval processes for any configuration changes to critical network components. Additionally, it underscored the importance of immediate rollback capabilities and the need for comprehensive logging of all changes.'}, {'Incident ID': '004', 'Title': 'Router-2 is not reachable', 'Date and Time': '2023-05-10 11:47', 'Reported By': 'Ethan Wright/Network Operations', 'Component Affected': 'Router-2', 'Resolution Steps': '1. Immediate notification to the hardware team for diagnostics. 2. Temporary routing adjustments made to divert traffic through Router-1 while Router-2 was under investigation. 3. Hardware fault identified and Router-2 was replaced at 14:30. 4. After replacement, Router-2 was brought back online and normal service for App-3 and App-4 was restored by 15:00.', 'Resolved By': 'Fiona Kelley/Hardware Support Team', 'Resolution Date and Time': '2023-05-10 15:00', 'Current Status': 'Resolved', 'Lessons Learned': 'The incident underlined the importance of having a robust hardware monitoring and failure detection system in place. It also highlighted the need for a quicker hardware replacement process and the effectiveness of having a contingency plan for rerouting traffic during critical hardware failures.'}, {'Incident ID': '005', 'Title': 'Router-2 Configuration Changes', 'Date and Time': '2023-06-15 09:30', 'Reported By': 'Gregory Hines/IT Support', 'Component Affected': 'Router-2', 'Resolution Steps': '1. The issue was detected through automated monitoring alerts. 2. IT Support initiated an emergency protocol to assess and rectify the configuration errors. 3. Configuration changes were rolled back to the last known good configuration at 10:15. 4. Full service was restored to App-3 and App-4 by 10:45, and a review was scheduled to prevent future occurrences.', 'Resolved By': 'Hannah Klein/Network Operations Team', 'Resolution Date and Time': '2023-06-15 10:45', 'Current Status': 'Resolved', 'Lessons Learned': 'This incident emphasized the need for a more rigorous pre-deployment testing phase for any configuration changes, especially those affecting critical network infrastructure. It also highlighted the importance of having a quick rollback strategy for immediately addressing any issues that arise post-deployment.'}, {'Incident ID': '006', 'Title': 'Firewall-1 is not reachable', 'Date and Time': '2023-07-22 14:05', 'Reported By': 'Isabel Martinez/Security Team', 'Component Affected': 'Firewall-1', 'Resolution Steps': '1. The issue was immediately escalated to the hardware maintenance team. 2. A faulty power supply unit was identified and replaced by 15:30. 3. Firewall-1 was successfully rebooted, and full functionality was restored by 16:00.', 'Resolved By': 'Jason Clark/Hardware Maintenance', 'Resolution Date and Time': '2023-07-22 16:00', 'Current Status': 'Resolved', 'Lessons Learned': 'The incident underscored the importance of regular hardware inspections and the need for having redundant power supplies for critical security infrastructure to prevent similar outages in the future.'}, {'Incident ID': '007', 'Title': 'Firewall-1 Configuration Changes', 'Date and Time': '2023-08-03 10:20', 'Reported By': 'Natalie Chen/Cybersecurity', 'Component Affected': 'Firewall-1', 'Resolution Steps': '1. The configuration error was detected through automated monitoring systems. 2. Cybersecurity team initiated an emergency protocol to assess and correct the configuration. 3. Configuration changes were rolled back to the previous stable version at 11:45. 4. Full service was restored to App-1 and App-2 by 12:15, and a review was scheduled to prevent future occurrences.', 'Resolved By': 'Oliver Grant/Network Operations Team', 'Resolution Date and Time': '2023-08-03 12:15', 'Current Status': 'Resolved', 'Lessons Learned': 'This incident highlighted the critical need for a more rigorous configuration change process, including pre-approval by cybersecurity and network operations, and the importance of immediate rollback capabilities for quickly addressing any issues post-deployment.'}, {'Incident ID': '008', 'Title': 'Firewall-1 Routing All Traffic to App-1', 'Date and Time': '2023-09-14 08:30', 'Reported By': 'Marco Silva/IT Operations', 'Component Affected': 'Firewall-1', 'Resolution Steps': '1. The routing misconfiguration was identified by the network team. 2. Immediate action was taken to correct the routing rules, restoring balanced traffic flow to both App-1 and App-2 by 09:15.', 'Resolved By': 'Sophia Loren/Network Team', 'Resolution Date and Time': '2023-09-14 09:15', 'Current Status': 'Resolved', 'Lessons Learned': 'Emphasized the importance of validating configuration changes through a staging environment and conducting immediate post-deployment checks to ensure all services are operating as expected.'}, {'Incident ID': '009', 'Title': 'Firewall-1 Routing All Traffic to App-2', 'Date and Time': '2023-10-05 11:00', 'Reported By': 'Liam Wong/IT Security', 'Component Affected': 'Firewall-1', 'Resolution Steps': '1. The configuration anomaly was quickly spotted by the IT security team. 2. Corrective measures were implemented to redistribute traffic appropriately between App-1 and App-2 by 12:30.', 'Resolved By': 'Emma Patel/IT Security Team', 'Resolution Date and Time': '2023-10-05 12:30', 'Current Status': 'Resolved', 'Lessons Learned': 'The incident reinforced the need for a detailed review and testing of firewall configurations in a controlled environment before deployment to the live network, ensuring all routing behaves as expected.'}]\n"
     ]
    }
   ],
   "source": [
    "# load incidents data from wiki pages\n",
    "directory = \"wiki\"\n",
    "extractor = IncidentDataExtractor(directory)\n",
    "incidents_data = extractor.load_incidents()\n",
    "print(f\"Incidents Data: {incidents_data}\")"
   ]
  },
  {
   "cell_type": "code",
   "execution_count": 6,
   "id": "3cb2dc17-ffde-45fd-9460-f5b9e8d3b945",
   "metadata": {},
   "outputs": [
    {
     "name": "stdout",
     "output_type": "stream",
     "text": [
      "              precision    recall  f1-score   support\n",
      "\n",
      "       App-1       0.00      1.00      0.00       0.0\n",
      "       App-3       1.00      0.00      0.00       1.0\n",
      "  Firewall-1       1.00      0.00      0.00       1.0\n",
      "  Firewall-2       0.00      1.00      0.00       0.0\n",
      "    Router-1       1.00      0.00      0.00       1.0\n",
      "    Router-2       0.00      1.00      0.00       0.0\n",
      "   Service-1       1.00      0.00      0.00       1.0\n",
      "   Service-2       0.00      1.00      0.00       0.0\n",
      "   Service-3       1.00      0.00      0.00       1.0\n",
      "   Service-4       1.00      0.00      0.00       1.0\n",
      "\n",
      "    accuracy                           0.00       6.0\n",
      "   macro avg       0.60      0.40      0.00       6.0\n",
      "weighted avg       1.00      0.00      0.00       6.0\n",
      "\n"
     ]
    }
   ],
   "source": [
    "# train model\n",
    "forecasting = ComponentAffectedForecasting()\n",
    "forecasting.preprocess_data(incidents_data)\n",
    "forecasting.split_data()\n",
    "forecasting.train_model()\n",
    "forecasting.evaluate_model()"
   ]
  },
  {
   "cell_type": "code",
   "execution_count": 7,
   "id": "3fbba5e9-1b9c-44aa-816a-e8760f79c857",
   "metadata": {},
   "outputs": [
    {
     "name": "stdout",
     "output_type": "stream",
     "text": [
      "              precision    recall  f1-score   support\n",
      "\n",
      "       App-1       0.00      1.00      0.00       0.0\n",
      "       App-3       1.00      0.00      0.00       1.0\n",
      "  Firewall-1       1.00      0.00      0.00       1.0\n",
      "  Firewall-2       0.00      1.00      0.00       0.0\n",
      "    Router-1       1.00      0.00      0.00       1.0\n",
      "    Router-2       0.00      1.00      0.00       0.0\n",
      "   Service-1       1.00      0.00      0.00       1.0\n",
      "   Service-2       0.00      1.00      0.00       0.0\n",
      "   Service-3       1.00      0.00      0.00       1.0\n",
      "   Service-4       1.00      0.00      0.00       1.0\n",
      "\n",
      "    accuracy                           0.00       6.0\n",
      "   macro avg       0.60      0.40      0.00       6.0\n",
      "weighted avg       1.00      0.00      0.00       6.0\n",
      "\n",
      "Component Aaffected Predictions: ['Firewall-2']\n"
     ]
    }
   ],
   "source": [
    "forecasting = ComponentAffectedForecasting()\n",
    "forecasting.preprocess_data(incidents_data)\n",
    "forecasting.split_data()\n",
    "forecasting.train_model()\n",
    "forecasting.evaluate_model()\n",
    "\n",
    "new_issue = [\"Email system down\"]\n",
    "component_affected_predictions = forecasting.predict_component_affected(new_issue)\n",
    "print(f\"Component Aaffected Predictions: {component_affected_predictions}\")"
   ]
  },
  {
   "cell_type": "code",
   "execution_count": 8,
   "id": "889cb3bb-a9d2-4c0d-9f6f-c266f1da8727",
   "metadata": {},
   "outputs": [
    {
     "name": "stdout",
     "output_type": "stream",
     "text": [
      "Resolution Steps: 1. The routing issue was quickly detected by the network monitoring system. 2. Network engineers corrected the firewall configuration, restoring normal traffic distribution between App-3 and App-4 by 10:30.\n"
     ]
    }
   ],
   "source": [
    "# forecasting resolution steps\n",
    "resolution_steps = forecasting.get_resolution_steps(component_affected_predictions[0])\n",
    "print(f\"Resolution Steps: {resolution_steps}\")"
   ]
  },
  {
   "cell_type": "code",
   "execution_count": null,
   "id": "799b7155-8656-4811-9947-9a10ec8c90ce",
   "metadata": {},
   "outputs": [],
   "source": []
  }
 ],
 "metadata": {
  "kernelspec": {
   "display_name": "Python 3 (ipykernel)",
   "language": "python",
   "name": "python3"
  },
  "language_info": {
   "codemirror_mode": {
    "name": "ipython",
    "version": 3
   },
   "file_extension": ".py",
   "mimetype": "text/x-python",
   "name": "python",
   "nbconvert_exporter": "python",
   "pygments_lexer": "ipython3",
   "version": "3.11.0"
  }
 },
 "nbformat": 4,
 "nbformat_minor": 5
}
